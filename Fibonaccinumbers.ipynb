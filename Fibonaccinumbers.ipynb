{
  "nbformat": 4,
  "nbformat_minor": 0,
  "metadata": {
    "colab": {
      "provenance": [],
      "authorship_tag": "ABX9TyNyQTU04F+imSaTqImlbTnh",
      "include_colab_link": true
    },
    "kernelspec": {
      "name": "python3",
      "display_name": "Python 3"
    },
    "language_info": {
      "name": "python"
    }
  },
  "cells": [
    {
      "cell_type": "markdown",
      "metadata": {
        "id": "view-in-github",
        "colab_type": "text"
      },
      "source": [
        "<a href=\"https://colab.research.google.com/github/agnideepto06/AI_My_Captain/blob/main/Fibonaccinumbers.ipynb\" target=\"_parent\"><img src=\"https://colab.research.google.com/assets/colab-badge.svg\" alt=\"Open In Colab\"/></a>"
      ]
    },
    {
      "cell_type": "code",
      "execution_count": 31,
      "metadata": {
        "id": "9paLsaRH-g8L",
        "colab": {
          "base_uri": "https://localhost:8080/"
        },
        "outputId": "c0e886bd-4760-4692-b99e-adb796686547"
      },
      "outputs": [
        {
          "output_type": "stream",
          "name": "stdout",
          "text": [
            "Fibonacci numbers : [0, 1, 1, 2, 3, 5, 8, 13, 21, 34, 55, 89, 144, 233, 377, 610, 987]\n"
          ]
        }
      ],
      "source": [
        "def fibonacci(limit):\n",
        "  # Initialize first two fibonacci numbers\n",
        " fib_list = [0, 1]\n",
        "\n",
        " # Generate Subsequent Fibonacci numbers until limit\n",
        " while True:\n",
        "   next_fib = fib_list[-1] + fib_list[-2]\n",
        "   if next_fib > limit:\n",
        "    break\n",
        "   fib_list.append(next_fib)\n",
        "\n",
        " return fib_list\n",
        "\n",
        "# Example\n",
        "limit= 1000\n",
        "fibonacci_numbers = fibonacci(limit)\n",
        "print(\"Fibonacci numbers\", \":\", fibonacci_numbers)"
      ]
    },
    {
      "cell_type": "code",
      "source": [],
      "metadata": {
        "id": "T0u8SR_g_Dja"
      },
      "execution_count": 31,
      "outputs": []
    }
  ]
}