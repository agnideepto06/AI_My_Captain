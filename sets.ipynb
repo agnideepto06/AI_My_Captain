{
  "nbformat": 4,
  "nbformat_minor": 0,
  "metadata": {
    "colab": {
      "provenance": [],
      "authorship_tag": "ABX9TyO5LuRxW3PafqBThqxZZwbd",
      "include_colab_link": true
    },
    "kernelspec": {
      "name": "python3",
      "display_name": "Python 3"
    },
    "language_info": {
      "name": "python"
    }
  },
  "cells": [
    {
      "cell_type": "markdown",
      "metadata": {
        "id": "view-in-github",
        "colab_type": "text"
      },
      "source": [
        "<a href=\"https://colab.research.google.com/github/agnideepto06/AI_My_Captain/blob/main/Untitled0.ipynb\" target=\"_parent\"><img src=\"https://colab.research.google.com/assets/colab-badge.svg\" alt=\"Open In Colab\"/></a>"
      ]
    },
    {
      "cell_type": "code",
      "execution_count": null,
      "metadata": {
        "colab": {
          "base_uri": "https://localhost:8080/"
        },
        "id": "yTllcy_SGGpS",
        "outputId": "1e8dc45b-6bf7-4675-da49-4c09200b2f74"
      },
      "outputs": [
        {
          "output_type": "stream",
          "name": "stdout",
          "text": [
            "Union of E and N: {0, 1, 2, 3, 4, 5, 6, 8}\n",
            "Intersection of E and N: {2, 4}\n",
            "Difference of E and N: {0, 1, 3, 5, 6, 8}\n",
            "Symmetric difference of E and N: {0, 1, 3, 5, 6, 8}\n"
          ]
        }
      ],
      "source": [
        "E = {0, 1, 2, 3, 4, 5, 6, 8}\n",
        "N = {2, 4}\n",
        "\n",
        "union = E.union(N)\n",
        "print(\"Union of E and N:\" , union)\n",
        "\n",
        "intersection = E.intersection(N)\n",
        "print(\"Intersection of E and N:\" , intersection)\n",
        "\n",
        "difference = E.difference(N)\n",
        "print(\"Difference of E and N:\" , difference)\n",
        "\n",
        "symmetric_difference = E.symmetric_difference(N)\n",
        "print(\"Symmetric difference of E and N:\" , symmetric_difference)\n"
      ]
    }
  ]
}
